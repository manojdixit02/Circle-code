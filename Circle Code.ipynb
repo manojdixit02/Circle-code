{
 "cells": [
  {
   "cell_type": "code",
   "execution_count": 1,
   "id": "a9b4090d-8638-4eab-af7c-093157379f7d",
   "metadata": {},
   "outputs": [],
   "source": [
    "import turtle"
   ]
  },
  {
   "cell_type": "code",
   "execution_count": null,
   "id": "d83d3c89-0893-4599-8c5c-6ec17bfa37f2",
   "metadata": {},
   "outputs": [],
   "source": [
    "a = turtle.Turtle()\n",
    "b = turtle.Screen()\n",
    "b.bgcolor('#000000')\n",
    "a.speed(10)\n",
    "for _ in range(36):\n",
    "    a.pencolor(\"red\")\n",
    "    a.circle(100)\n",
    "    a.left(10)\n",
    "\n",
    "turtle.done()"
   ]
  },
  {
   "cell_type": "code",
   "execution_count": null,
   "id": "6fe16afd-9cfa-4feb-8a18-2d81cf77e6b7",
   "metadata": {},
   "outputs": [],
   "source": []
  }
 ],
 "metadata": {
  "kernelspec": {
   "display_name": "Python 3 (ipykernel)",
   "language": "python",
   "name": "python3"
  },
  "language_info": {
   "codemirror_mode": {
    "name": "ipython",
    "version": 3
   },
   "file_extension": ".py",
   "mimetype": "text/x-python",
   "name": "python",
   "nbconvert_exporter": "python",
   "pygments_lexer": "ipython3",
   "version": "3.12.7"
  }
 },
 "nbformat": 4,
 "nbformat_minor": 5
}
